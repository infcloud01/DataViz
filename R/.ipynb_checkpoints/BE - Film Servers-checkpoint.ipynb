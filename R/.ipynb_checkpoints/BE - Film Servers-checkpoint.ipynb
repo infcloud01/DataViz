{
 "cells": [
  {
   "cell_type": "code",
   "execution_count": 27,
   "metadata": {},
   "outputs": [
    {
     "data": {
      "text/html": [
       "'C:/Users/206404804/Dropbox (Personal)/Service Delivery/2016/Architecture/GitHub/servicedelivery-devops/Data Science/R'"
      ],
      "text/latex": [
       "'C:/Users/206404804/Dropbox (Personal)/Service Delivery/2016/Architecture/GitHub/servicedelivery-devops/Data Science/R'"
      ],
      "text/markdown": [
       "'C:/Users/206404804/Dropbox (Personal)/Service Delivery/2016/Architecture/GitHub/servicedelivery-devops/Data Science/R'"
      ],
      "text/plain": [
       "[1] \"C:/Users/206404804/Dropbox (Personal)/Service Delivery/2016/Architecture/GitHub/servicedelivery-devops/Data Science/R\""
      ]
     },
     "metadata": {},
     "output_type": "display_data"
    }
   ],
   "source": [
    "getwd()"
   ]
  },
  {
   "cell_type": "code",
   "execution_count": 28,
   "metadata": {
    "collapsed": true
   },
   "outputs": [],
   "source": [
    "df <- read.csv(\"Film-Entertainment-Apps.csv\")"
   ]
  },
  {
   "cell_type": "code",
   "execution_count": 29,
   "metadata": {},
   "outputs": [
    {
     "name": "stdout",
     "output_type": "stream",
     "text": [
      "'data.frame':\t126 obs. of  7 variables:\n",
      " $ Name             : Factor w/ 126 levels \"Account Plan - USHE\",..: 1 2 3 4 5 6 7 8 9 10 ...\n",
      " $ Application.ID   : int  2041306 2041506 7017132 2041494 4071396 7009396 7009397 7009394 2043405 7021540 ...\n",
      " $ Status           : Factor w/ 3 levels \"Pre-Production\",..: 2 2 1 3 2 2 2 2 2 1 ...\n",
      " $ Owned.by         : Factor w/ 44 levels \"\",\"Alexandra Leung\",..: 5 39 41 26 6 15 15 15 43 8 ...\n",
      " $ Executive.Sponsor: Factor w/ 2 levels \"Michael Williamson\",..: 2 2 2 2 2 2 2 2 2 2 ...\n",
      " $ Organization.Name: Factor w/ 2 levels \"Filmed Ent Technology Global HE I\",..: 2 2 2 2 2 2 2 2 2 2 ...\n",
      " $ CIO.Group        : Factor w/ 4 levels \"\",\"Enterprise Applications\",..: 4 4 4 4 4 2 2 2 4 4 ...\n"
     ]
    }
   ],
   "source": [
    "str(df)"
   ]
  },
  {
   "cell_type": "code",
   "execution_count": 30,
   "metadata": {},
   "outputs": [
    {
     "data": {
      "text/plain": [
       "                                                Name     Application.ID   \n",
       " Account Plan - USHE                              :  1   Min.   :2038858  \n",
       " Allocation Tool                                  :  1   1st Qu.:2041497  \n",
       " Appian Digital Distribution                      :  1   Median :3717401  \n",
       " Application Tracking System (ATS)                :  1   Mean   :4334115  \n",
       " ARMR - Application for Readily Managing Royalties:  1   3rd Qu.:7011190  \n",
       " AVID UCSO                                        :  1   Max.   :7023124  \n",
       " (Other)                                          :120                    \n",
       "            Status              Owned.by           Executive.Sponsor\n",
       " Pre-Production:20   Ann Kaatz      :14   Michael Williamson:  1    \n",
       " Production    :86   Danielle Benson:11   Steven Lapinski   :125    \n",
       " Semi-Retired  :20   John De Pablos : 8                             \n",
       "                     Gregory Chan   : 7                             \n",
       "                     Marc Melvin    : 6                             \n",
       "                     Farrah Ginter  : 5                             \n",
       "                     (Other)        :75                             \n",
       "                         Organization.Name                   CIO.Group  \n",
       " Filmed Ent Technology Global HE I:  1                            :  6  \n",
       " Filmed Entertainment Technology  :125     Enterprise Applications: 10  \n",
       "                                           Enterprise Technologies:  2  \n",
       "                                           Filmed Entertainment   :108  \n",
       "                                                                        \n",
       "                                                                        \n",
       "                                                                        "
      ]
     },
     "metadata": {},
     "output_type": "display_data"
    }
   ],
   "source": [
    "summary(df)"
   ]
  },
  {
   "cell_type": "code",
   "execution_count": 31,
   "metadata": {},
   "outputs": [
    {
     "data": {
      "text/html": [
       "<table>\n",
       "<thead><tr><th scope=col>Name</th><th scope=col>Application.ID</th><th scope=col>Status</th><th scope=col>Owned.by</th><th scope=col>Executive.Sponsor</th><th scope=col>Organization.Name</th><th scope=col>CIO.Group</th></tr></thead>\n",
       "<tbody>\n",
       "\t<tr><td>Account Plan - USHE                              </td><td>2041306                                          </td><td>Production                                       </td><td>Ann Kaatz                                        </td><td>Steven Lapinski                                  </td><td>Filmed Entertainment Technology                  </td><td>Filmed Entertainment                             </td></tr>\n",
       "\t<tr><td>Allocation Tool                                  </td><td>2041506                                          </td><td>Production                                       </td><td>Susan Watson                                     </td><td>Steven Lapinski                                  </td><td>Filmed Entertainment Technology                  </td><td>Filmed Entertainment                             </td></tr>\n",
       "\t<tr><td>Appian Digital Distribution                      </td><td>7017132                                          </td><td>Pre-Production                                   </td><td>Victor Del Bene                                  </td><td>Steven Lapinski                                  </td><td>Filmed Entertainment Technology                  </td><td>Filmed Entertainment                             </td></tr>\n",
       "\t<tr><td>Application Tracking System (ATS)                </td><td>2041494                                          </td><td>Semi-Retired                                     </td><td>Lisa Pravorne-Turner                             </td><td>Steven Lapinski                                  </td><td>Filmed Entertainment Technology                  </td><td>Filmed Entertainment                             </td></tr>\n",
       "\t<tr><td>ARMR - Application for Readily Managing Royalties</td><td>4071396                                          </td><td>Production                                       </td><td>Ann Nisimov                                      </td><td>Steven Lapinski                                  </td><td>Filmed Entertainment Technology                  </td><td>Filmed Entertainment                             </td></tr>\n",
       "\t<tr><td>AVID UCSO                                        </td><td>7009396                                          </td><td>Production                                       </td><td>Gregory Chan                                     </td><td>Steven Lapinski                                  </td><td>Filmed Entertainment Technology                  </td><td>Enterprise Applications                          </td></tr>\n",
       "</tbody>\n",
       "</table>\n"
      ],
      "text/latex": [
       "\\begin{tabular}{r|lllllll}\n",
       " Name & Application.ID & Status & Owned.by & Executive.Sponsor & Organization.Name & CIO.Group\\\\\n",
       "\\hline\n",
       "\t Account Plan - USHE                               & 2041306                                           & Production                                        & Ann Kaatz                                         & Steven Lapinski                                   & Filmed Entertainment Technology                   & Filmed Entertainment                             \\\\\n",
       "\t Allocation Tool                                   & 2041506                                           & Production                                        & Susan Watson                                      & Steven Lapinski                                   & Filmed Entertainment Technology                   & Filmed Entertainment                             \\\\\n",
       "\t Appian Digital Distribution                       & 7017132                                           & Pre-Production                                    & Victor Del Bene                                   & Steven Lapinski                                   & Filmed Entertainment Technology                   & Filmed Entertainment                             \\\\\n",
       "\t Application Tracking System (ATS)                 & 2041494                                           & Semi-Retired                                      & Lisa Pravorne-Turner                              & Steven Lapinski                                   & Filmed Entertainment Technology                   & Filmed Entertainment                             \\\\\n",
       "\t ARMR - Application for Readily Managing Royalties & 4071396                                           & Production                                        & Ann Nisimov                                       & Steven Lapinski                                   & Filmed Entertainment Technology                   & Filmed Entertainment                             \\\\\n",
       "\t AVID UCSO                                         & 7009396                                           & Production                                        & Gregory Chan                                      & Steven Lapinski                                   & Filmed Entertainment Technology                   & Enterprise Applications                          \\\\\n",
       "\\end{tabular}\n"
      ],
      "text/markdown": [
       "\n",
       "Name | Application.ID | Status | Owned.by | Executive.Sponsor | Organization.Name | CIO.Group | \n",
       "|---|---|---|---|---|---|\n",
       "| Account Plan - USHE                               | 2041306                                           | Production                                        | Ann Kaatz                                         | Steven Lapinski                                   | Filmed Entertainment Technology                   | Filmed Entertainment                              | \n",
       "| Allocation Tool                                   | 2041506                                           | Production                                        | Susan Watson                                      | Steven Lapinski                                   | Filmed Entertainment Technology                   | Filmed Entertainment                              | \n",
       "| Appian Digital Distribution                       | 7017132                                           | Pre-Production                                    | Victor Del Bene                                   | Steven Lapinski                                   | Filmed Entertainment Technology                   | Filmed Entertainment                              | \n",
       "| Application Tracking System (ATS)                 | 2041494                                           | Semi-Retired                                      | Lisa Pravorne-Turner                              | Steven Lapinski                                   | Filmed Entertainment Technology                   | Filmed Entertainment                              | \n",
       "| ARMR - Application for Readily Managing Royalties | 4071396                                           | Production                                        | Ann Nisimov                                       | Steven Lapinski                                   | Filmed Entertainment Technology                   | Filmed Entertainment                              | \n",
       "| AVID UCSO                                         | 7009396                                           | Production                                        | Gregory Chan                                      | Steven Lapinski                                   | Filmed Entertainment Technology                   | Enterprise Applications                           | \n",
       "\n",
       "\n"
      ],
      "text/plain": [
       "  Name                                              Application.ID\n",
       "1 Account Plan - USHE                               2041306       \n",
       "2 Allocation Tool                                   2041506       \n",
       "3 Appian Digital Distribution                       7017132       \n",
       "4 Application Tracking System (ATS)                 2041494       \n",
       "5 ARMR - Application for Readily Managing Royalties 4071396       \n",
       "6 AVID UCSO                                         7009396       \n",
       "  Status         Owned.by             Executive.Sponsor\n",
       "1 Production     Ann Kaatz            Steven Lapinski  \n",
       "2 Production     Susan Watson         Steven Lapinski  \n",
       "3 Pre-Production Victor Del Bene      Steven Lapinski  \n",
       "4 Semi-Retired   Lisa Pravorne-Turner Steven Lapinski  \n",
       "5 Production     Ann Nisimov          Steven Lapinski  \n",
       "6 Production     Gregory Chan         Steven Lapinski  \n",
       "  Organization.Name               CIO.Group              \n",
       "1 Filmed Entertainment Technology Filmed Entertainment   \n",
       "2 Filmed Entertainment Technology Filmed Entertainment   \n",
       "3 Filmed Entertainment Technology Filmed Entertainment   \n",
       "4 Filmed Entertainment Technology Filmed Entertainment   \n",
       "5 Filmed Entertainment Technology Filmed Entertainment   \n",
       "6 Filmed Entertainment Technology Enterprise Applications"
      ]
     },
     "metadata": {},
     "output_type": "display_data"
    }
   ],
   "source": [
    "head(df)"
   ]
  },
  {
   "cell_type": "code",
   "execution_count": 34,
   "metadata": {},
   "outputs": [
    {
     "name": "stderr",
     "output_type": "stream",
     "text": [
      "Loading required package: dplyr\n",
      "\n",
      "Attaching package: 'dplyr'\n",
      "\n",
      "The following objects are masked from 'package:stats':\n",
      "\n",
      "    filter, lag\n",
      "\n",
      "The following objects are masked from 'package:base':\n",
      "\n",
      "    intersect, setdiff, setequal, union\n",
      "\n"
     ]
    }
   ],
   "source": [
    "require(dplyr)"
   ]
  },
  {
   "cell_type": "code",
   "execution_count": null,
   "metadata": {
    "collapsed": true
   },
   "outputs": [],
   "source": []
  }
 ],
 "metadata": {
  "kernelspec": {
   "display_name": "R",
   "language": "R",
   "name": "ir"
  },
  "language_info": {
   "codemirror_mode": "r",
   "file_extension": ".r",
   "mimetype": "text/x-r-source",
   "name": "R",
   "pygments_lexer": "r",
   "version": "3.3.2"
  }
 },
 "nbformat": 4,
 "nbformat_minor": 2
}
