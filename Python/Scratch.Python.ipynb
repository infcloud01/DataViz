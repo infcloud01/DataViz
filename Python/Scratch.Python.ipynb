{
 "cells": [
  {
   "cell_type": "markdown",
   "metadata": {},
   "source": [
    "# Scratch Python Notebook"
   ]
  },
  {
   "cell_type": "code",
   "execution_count": 1,
   "metadata": {},
   "outputs": [
    {
     "data": {
      "text/plain": [
       "6.0"
      ]
     },
     "execution_count": 1,
     "metadata": {},
     "output_type": "execute_result"
    }
   ],
   "source": [
    "x =3 \n",
    "y = 3.0\n",
    "x+y"
   ]
  },
  {
   "cell_type": "code",
   "execution_count": 2,
   "metadata": {},
   "outputs": [
    {
     "name": "stdout",
     "output_type": "stream",
     "text": [
      "0\n",
      "2\n",
      "4\n",
      "6\n",
      "8\n",
      "10\n"
     ]
    }
   ],
   "source": [
    "for i in range (0,12,2):\n",
    "    print(i)"
   ]
  },
  {
   "cell_type": "code",
   "execution_count": 3,
   "metadata": {},
   "outputs": [
    {
     "name": "stdout",
     "output_type": "stream",
     "text": [
      "2\n",
      "5\n",
      "8\n",
      "11\n"
     ]
    }
   ],
   "source": [
    "i =2\n",
    "while i < 12:\n",
    "    print(i)\n",
    "    i+=3"
   ]
  },
  {
   "cell_type": "code",
   "execution_count": 4,
   "metadata": {
    "collapsed": true
   },
   "outputs": [],
   "source": [
    "# Modulo example - module tests for ramainders in a calculation.\n",
    "# For example, 22 % 3 is 1 because 22/3 is 21 remainde 1"
   ]
  },
  {
   "cell_type": "code",
   "execution_count": 5,
   "metadata": {},
   "outputs": [
    {
     "name": "stdout",
     "output_type": "stream",
     "text": [
      "0\n",
      "2\n",
      "4\n",
      "6\n",
      "8\n"
     ]
    }
   ],
   "source": [
    "for i in range (0,10):\n",
    "    if i % 2 == 0:\n",
    "        print(i)"
   ]
  },
  {
   "cell_type": "code",
   "execution_count": 6,
   "metadata": {},
   "outputs": [
    {
     "name": "stdout",
     "output_type": "stream",
     "text": [
      "0\n",
      "11\n",
      "2\n",
      "13\n",
      "4\n"
     ]
    }
   ],
   "source": [
    "for i in range (0,5):\n",
    "    if i % 2 == 0:\n",
    "        print(i)\n",
    "    else:\n",
    "        print (i+10)"
   ]
  },
  {
   "cell_type": "code",
   "execution_count": 7,
   "metadata": {},
   "outputs": [
    {
     "name": "stdout",
     "output_type": "stream",
     "text": [
      "0\n",
      "11\n",
      "-8\n",
      "3\n",
      "14\n"
     ]
    }
   ],
   "source": [
    "for i in range (0,5):\n",
    "    if i % 3 == 0:\n",
    "        print(i)\n",
    "    elif i % 3 == 1:\n",
    "        print(i+10)\n",
    "    else:\n",
    "        print(i-10)"
   ]
  },
  {
   "cell_type": "code",
   "execution_count": 11,
   "metadata": {},
   "outputs": [
    {
     "name": "stdout",
     "output_type": "stream",
     "text": [
      "9\n"
     ]
    }
   ],
   "source": [
    "def my_abs(val) :\n",
    "    if val < 0 :\n",
    "        return -val\n",
    "    return val\n",
    "print(my_abs(-9))"
   ]
  },
  {
   "cell_type": "code",
   "execution_count": 17,
   "metadata": {},
   "outputs": [
    {
     "name": "stdout",
     "output_type": "stream",
     "text": [
      "2.7\n",
      "None\n"
     ]
    }
   ],
   "source": [
    "#No return value so none is assigned as the return value\n",
    "def print_abs(val):\n",
    "    if val < 0:\n",
    "        print (0-val)\n",
    "    else:\n",
    "        print(val)\n",
    "    \n",
    "x = print_abs(-2.7)\n",
    "print(x)"
   ]
  },
  {
   "cell_type": "code",
   "execution_count": 23,
   "metadata": {},
   "outputs": [
    {
     "name": "stdout",
     "output_type": "stream",
     "text": [
      "7\n",
      "8\n"
     ]
    }
   ],
   "source": [
    "def inc_val(val):\n",
    "    val = val + 1\n",
    "    return val #returns 'none' without this in the function\n",
    "\n",
    "x = 7\n",
    "inc_val(x)\n",
    "print(x)\n",
    "print(inc_val(x))"
   ]
  },
  {
   "cell_type": "code",
   "execution_count": 1,
   "metadata": {},
   "outputs": [
    {
     "name": "stdout",
     "output_type": "stream",
     "text": [
      "6 ,  3\n"
     ]
    }
   ],
   "source": [
    "def swap(val1, val2):\n",
    "\ttmp = val1 #assign val1 to a temp variable\n",
    "\tval1 = val2 #swap 1 with 2\n",
    "\tval2 = tmp #swap 2 with the temp value of 1\n",
    "\n",
    "x = 6\n",
    "y = 3\n",
    "swap(x, y) #swaps them only in the function\n",
    "print(x,\", \",y) # prints the normal values of x and y"
   ]
  },
  {
   "cell_type": "markdown",
   "metadata": {},
   "source": [
    "## String Functions"
   ]
  },
  {
   "cell_type": "code",
   "execution_count": 27,
   "metadata": {},
   "outputs": [
    {
     "data": {
      "text/plain": [
       "'hello'"
      ]
     },
     "execution_count": 27,
     "metadata": {},
     "output_type": "execute_result"
    }
   ],
   "source": [
    "my_word = \"HELLO\"\n",
    "word.lower()"
   ]
  },
  {
   "cell_type": "code",
   "execution_count": 28,
   "metadata": {},
   "outputs": [
    {
     "data": {
      "text/plain": [
       "'HELLO'"
      ]
     },
     "execution_count": 28,
     "metadata": {},
     "output_type": "execute_result"
    }
   ],
   "source": [
    "my_word = \"hello\"\n",
    "word.upper()"
   ]
  },
  {
   "cell_type": "code",
   "execution_count": 31,
   "metadata": {},
   "outputs": [
    {
     "data": {
      "text/plain": [
       "'hello world'"
      ]
     },
     "execution_count": 31,
     "metadata": {},
     "output_type": "execute_result"
    }
   ],
   "source": [
    "'1' + '2'\n",
    "'hello' +' world'"
   ]
  },
  {
   "cell_type": "code",
   "execution_count": 38,
   "metadata": {},
   "outputs": [
    {
     "data": {
      "text/plain": [
       "' hello hello hello hello hello world world world world world'"
      ]
     },
     "execution_count": 38,
     "metadata": {},
     "output_type": "execute_result"
    }
   ],
   "source": [
    "' hello'*5 + ' world'*5"
   ]
  },
  {
   "cell_type": "markdown",
   "metadata": {},
   "source": [
    "### Strip Function\n",
    "\n",
    "** These are examples using the strip function on strings\n",
    "- Remving spaces and lines\n",
    "- Removing certain charachters in a string\n",
    "- Splitting words"
   ]
  },
  {
   "cell_type": "code",
   "execution_count": 42,
   "metadata": {},
   "outputs": [
    {
     "name": "stdout",
     "output_type": "stream",
     "text": [
      "    Extras \n",
      "\n"
     ]
    },
    {
     "data": {
      "text/plain": [
       "'Extras'"
      ]
     },
     "execution_count": 42,
     "metadata": {},
     "output_type": "execute_result"
    }
   ],
   "source": [
    "s = '    Extras \\n'\n",
    "print (s)\n",
    "s.strip()"
   ]
  },
  {
   "cell_type": "code",
   "execution_count": 44,
   "metadata": {},
   "outputs": [
    {
     "data": {
      "text/plain": [
       "'Science'"
      ]
     },
     "execution_count": 44,
     "metadata": {},
     "output_type": "execute_result"
    }
   ],
   "source": [
    "s = '***Science***'\n",
    "s.strip('*')"
   ]
  },
  {
   "cell_type": "code",
   "execution_count": 45,
   "metadata": {},
   "outputs": [
    {
     "data": {
      "text/plain": [
       "[\"let's\", 'split', 'the', 'words']"
      ]
     },
     "execution_count": 45,
     "metadata": {},
     "output_type": "execute_result"
    }
   ],
   "source": [
    "s = 'let\\'s split the words'\n",
    "s.split(' ')"
   ]
  },
  {
   "cell_type": "code",
   "execution_count": 47,
   "metadata": {},
   "outputs": [
    {
     "data": {
      "text/plain": [
       "['Kennedy', ' Lincoln', ' Madison']"
      ]
     },
     "execution_count": 47,
     "metadata": {},
     "output_type": "execute_result"
    }
   ],
   "source": [
    "s = 'Kennedy, Lincoln, Madison'\n",
    "s.split(',')"
   ]
  },
  {
   "cell_type": "markdown",
   "metadata": {},
   "source": [
    "### Slicing\n",
    "\n",
    "** Breaking a string into a subset is called slicing\n",
    "\n"
   ]
  },
  {
   "cell_type": "code",
   "execution_count": 51,
   "metadata": {},
   "outputs": [
    {
     "data": {
      "text/plain": [
       "'el'"
      ]
     },
     "execution_count": 51,
     "metadata": {},
     "output_type": "execute_result"
    }
   ],
   "source": [
    "#Slice a word / Hello has the number of charachters 0,1,2,3,4 this includes 1 and 2 and excludes 3\n",
    "word = 'hello'\n",
    "word[1:3]"
   ]
  },
  {
   "cell_type": "code",
   "execution_count": 52,
   "metadata": {},
   "outputs": [
    {
     "data": {
      "text/plain": [
       "'o'"
      ]
     },
     "execution_count": 52,
     "metadata": {},
     "output_type": "execute_result"
    }
   ],
   "source": [
    "word = 'hello'\n",
    "word[4:7]\n",
    "\n",
    "#Doesn't return an error, just outputs charachter 4"
   ]
  },
  {
   "cell_type": "code",
   "execution_count": 54,
   "metadata": {},
   "outputs": [
    {
     "data": {
      "text/plain": [
       "'ell'"
      ]
     },
     "execution_count": 54,
     "metadata": {},
     "output_type": "execute_result"
    }
   ],
   "source": [
    "word = 'hello'\n",
    "word[-4:-1] # work the string backwords"
   ]
  },
  {
   "cell_type": "markdown",
   "metadata": {},
   "source": [
    "### Substring Testing"
   ]
  },
  {
   "cell_type": "code",
   "execution_count": 57,
   "metadata": {},
   "outputs": [
    {
     "data": {
      "text/plain": [
       "False"
      ]
     },
     "execution_count": 57,
     "metadata": {},
     "output_type": "execute_result"
    }
   ],
   "source": [
    "word = 'Hello'\n",
    "'HE' in word"
   ]
  },
  {
   "cell_type": "code",
   "execution_count": 58,
   "metadata": {},
   "outputs": [
    {
     "data": {
      "text/plain": [
       "1"
      ]
     },
     "execution_count": 58,
     "metadata": {},
     "output_type": "execute_result"
    }
   ],
   "source": [
    "word = 'hello'\n",
    "word.find('el')"
   ]
  },
  {
   "cell_type": "code",
   "execution_count": 59,
   "metadata": {},
   "outputs": [
    {
     "data": {
      "text/plain": [
       "1234"
      ]
     },
     "execution_count": 59,
     "metadata": {},
     "output_type": "execute_result"
    }
   ],
   "source": [
    "word = '1234'\n",
    "int(word)"
   ]
  },
  {
   "cell_type": "code",
   "execution_count": 60,
   "metadata": {},
   "outputs": [
    {
     "data": {
      "text/plain": [
       "1234.0"
      ]
     },
     "execution_count": 60,
     "metadata": {},
     "output_type": "execute_result"
    }
   ],
   "source": [
    "word = '1234'\n",
    "float(word)"
   ]
  },
  {
   "cell_type": "code",
   "execution_count": 65,
   "metadata": {},
   "outputs": [
    {
     "data": {
      "text/plain": [
       "' we love data analysis '"
      ]
     },
     "execution_count": 65,
     "metadata": {},
     "output_type": "execute_result"
    }
   ],
   "source": [
    "statement = ' we love {} {} '\n",
    "statement.format('data','analysis')"
   ]
  },
  {
   "cell_type": "code",
   "execution_count": 71,
   "metadata": {},
   "outputs": [
    {
     "name": "stdout",
     "output_type": "stream",
     "text": [
      "11\n",
      "22\n",
      "33\n"
     ]
    }
   ],
   "source": [
    "list = [11,22,33]\n",
    "list\n",
    "list[1]\n",
    "\n",
    "for i in list:\n",
    "    print(i)\n",
    "    \n",
    "#for i in range(0,len(list)):\n",
    "    #print(list[i])"
   ]
  },
  {
   "cell_type": "code",
   "execution_count": 73,
   "metadata": {},
   "outputs": [
    {
     "data": {
      "text/plain": [
       "95"
      ]
     },
     "execution_count": 73,
     "metadata": {},
     "output_type": "execute_result"
    }
   ],
   "source": [
    "list = [11,22,33]\n",
    "list[1] = 95\n",
    "\n",
    "list[1]"
   ]
  },
  {
   "cell_type": "code",
   "execution_count": 78,
   "metadata": {},
   "outputs": [
    {
     "data": {
      "text/plain": [
       "[11, 22]"
      ]
     },
     "execution_count": 78,
     "metadata": {},
     "output_type": "execute_result"
    }
   ],
   "source": [
    "#Append and remove items from a list\n",
    "#Use brackets for lists\n",
    "list = [11,22,33]\n",
    "list.append(44)\n",
    "\n",
    "list\n",
    "\n",
    "list.pop(2)\n",
    "list\n",
    "\n",
    "list.remove(44)\n",
    "list"
   ]
  },
  {
   "cell_type": "code",
   "execution_count": 94,
   "metadata": {},
   "outputs": [
    {
     "data": {
      "text/plain": [
       "4"
      ]
     },
     "execution_count": 94,
     "metadata": {},
     "output_type": "execute_result"
    }
   ],
   "source": [
    "#Use paranthesis for tuples and tuples and immutable\n",
    "tuple1 = ('honda', 'civic', 4, 2017)\n",
    "tuple1\n",
    "tuple1[1]\n",
    "len(tuple1)\n",
    "\n"
   ]
  },
  {
   "cell_type": "code",
   "execution_count": 116,
   "metadata": {},
   "outputs": [
    {
     "name": "stdout",
     "output_type": "stream",
     "text": [
      "('ghostbusters', 1984)\n",
      "('ghostbusters', 1984) : 7.8\n"
     ]
    }
   ],
   "source": [
    "#Using dictionaries/ use curly braces for dictionaries\n",
    "dict = {('ghostbusters',2016): 5.4, ('ghostbusters',1984):7.8}\n",
    "dict[('ghostbusters',2016)] #retrive a key value\n",
    "dict[('cars',2006)] = 7.1 #add to the dictionary\n",
    "dict\n",
    "\n",
    "x = dict.get(('cars',2006))\n",
    "x\n",
    "\n",
    "x = dict.get(('toy story',1995))\n",
    "x == None #returns true\n",
    "\n",
    "('toy story',1995) in dict # returns false\n",
    "\n",
    "dict.pop(('ghostbusters',2016))\n",
    "dict\n",
    "\n",
    "del dict[('cars',2006)] #won't return a value\n",
    "dict\n",
    "\n",
    "for i in dict:\n",
    "    print(i)\n",
    "\n",
    "for key, value in dict.items():\n",
    "    print(key,\":\", value)"
   ]
  },
  {
   "cell_type": "code",
   "execution_count": 120,
   "metadata": {},
   "outputs": [
    {
     "data": {
      "text/plain": [
       "{('cars', 2006): 7.1, ('ghostbusters', 2016): 5.4}"
      ]
     },
     "execution_count": 120,
     "metadata": {},
     "output_type": "execute_result"
    }
   ],
   "source": [
    "dict = {('ghostbusters',2016): 5.4, ('ghostbusters',1984):7.8}\n",
    "dict[('cars',2006)] = 7.1 #add to the dictionary\n",
    "\n",
    "to_remove =[]\n",
    "for i in dict:\n",
    "    if(i[1] < 2000):\n",
    "        to_remove.append(i)\n",
    "\n",
    "for i in to_remove:\n",
    "    dict.pop(i)\n",
    "\n",
    "dict\n"
   ]
  },
  {
   "cell_type": "code",
   "execution_count": 133,
   "metadata": {},
   "outputs": [
    {
     "data": {
      "text/plain": [
       "[2, 28, 11, 24, 20, 19, 8, 8, 3, 25]"
      ]
     },
     "execution_count": 133,
     "metadata": {},
     "output_type": "execute_result"
    }
   ],
   "source": [
    "#Using list comprehension\n",
    "list = [i**2 for i in range(1,11)] # i**2 is the square of a number\n",
    "\n",
    "list = [ i for i in range(0,6)]\n",
    "list = [i for i in range(0,20,2)]\n",
    "\n",
    "import random\n",
    "list = [random.randint(1,30) for i in range (0,10)]\n",
    "list"
   ]
  },
  {
   "cell_type": "code",
   "execution_count": 139,
   "metadata": {},
   "outputs": [
    {
     "data": {
      "text/plain": [
       "{65: 'A',\n",
       " 66: 'B',\n",
       " 67: 'C',\n",
       " 68: 'D',\n",
       " 69: 'E',\n",
       " 70: 'F',\n",
       " 71: 'G',\n",
       " 72: 'H',\n",
       " 73: 'I',\n",
       " 74: 'J',\n",
       " 75: 'K',\n",
       " 76: 'L',\n",
       " 77: 'M',\n",
       " 78: 'N',\n",
       " 79: 'O',\n",
       " 80: 'P',\n",
       " 81: 'Q',\n",
       " 82: 'R',\n",
       " 83: 'S',\n",
       " 84: 'T',\n",
       " 85: 'U',\n",
       " 86: 'V',\n",
       " 87: 'W',\n",
       " 88: 'X',\n",
       " 89: 'Y',\n",
       " 90: 'Z'}"
      ]
     },
     "execution_count": 139,
     "metadata": {},
     "output_type": "execute_result"
    }
   ],
   "source": [
    "dict = {i : i**2 for i in range (1,11)}\n",
    "dict\n",
    "\n",
    "dict = {i : chr(i) for i in range (65,91)}\n",
    "dict"
   ]
  }
 ],
 "metadata": {
  "kernelspec": {
   "display_name": "Python 3",
   "language": "python",
   "name": "python3"
  },
  "language_info": {
   "codemirror_mode": {
    "name": "ipython",
    "version": 3
   },
   "file_extension": ".py",
   "mimetype": "text/x-python",
   "name": "python",
   "nbconvert_exporter": "python",
   "pygments_lexer": "ipython3",
   "version": "3.6.1"
  }
 },
 "nbformat": 4,
 "nbformat_minor": 2
}
